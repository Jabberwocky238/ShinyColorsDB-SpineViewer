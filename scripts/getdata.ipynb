{
 "cells": [
  {
   "cell_type": "code",
   "execution_count": null,
   "metadata": {},
   "outputs": [],
   "source": [
    "import json\n",
    "\n",
    "data = json.load(open(\"spine.shinycolors.moe.har\"))\n",
    "data['log']['entries'].__len__()"
   ]
  },
  {
   "cell_type": "code",
   "execution_count": null,
   "metadata": {},
   "outputs": [],
   "source": [
    "data['log']['entries'][1]['response']['content']['text']\n",
    "import base64\n",
    "after_base64: bytes = base64.b64decode(data['log']['entries'][1]['response']['content']['text'])\n",
    "after_base64 = after_base64.decode('utf-8')\n",
    "after_base64\n"
   ]
  },
  {
   "cell_type": "code",
   "execution_count": null,
   "metadata": {},
   "outputs": [],
   "source": [
    "with open(\"./data.json\", \"w\") as outfile:\n",
    "    outfile.write(after_base64)"
   ]
  },
  {
   "cell_type": "code",
   "execution_count": null,
   "metadata": {},
   "outputs": [],
   "source": [
    "data['log']['entries'][2]['response']['content']['text']\n",
    "import base64\n",
    "after_base64: bytes = base64.b64decode(data['log']['entries'][2]['response']['content']['text'])\n",
    "after_base64 = after_base64.decode('utf-8')\n",
    "after_base64"
   ]
  },
  {
   "cell_type": "code",
   "execution_count": null,
   "metadata": {},
   "outputs": [],
   "source": [
    "with open(\"./data.atlas\", \"w\") as outfile:\n",
    "    outfile.write(after_base64)"
   ]
  },
  {
   "cell_type": "code",
   "execution_count": null,
   "metadata": {},
   "outputs": [],
   "source": [
    "data['log']['entries'][3]['response']['content']['text']\n",
    "import base64\n",
    "after_base64: bytes = base64.b64decode(data['log']['entries'][3]['response']['content']['text'])\n",
    "after_base64 = after_base64.decode('utf-8')\n",
    "after_base64"
   ]
  },
  {
   "cell_type": "code",
   "execution_count": null,
   "metadata": {},
   "outputs": [],
   "source": [
    "import json\n",
    "\n",
    "data = json.load(open(\"../public/data.json\"))\n",
    "print(data['animations']['eye_front'])\n",
    "print(data['animations']['eye_left'])"
   ]
  }
 ],
 "metadata": {
  "kernelspec": {
   "display_name": "py310",
   "language": "python",
   "name": "python3"
  },
  "language_info": {
   "codemirror_mode": {
    "name": "ipython",
    "version": 3
   },
   "file_extension": ".py",
   "mimetype": "text/x-python",
   "name": "python",
   "nbconvert_exporter": "python",
   "pygments_lexer": "ipython3",
   "version": "3.10.14"
  }
 },
 "nbformat": 4,
 "nbformat_minor": 2
}
